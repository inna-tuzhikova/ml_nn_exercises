{
 "cells": [
  {
   "cell_type": "code",
   "execution_count": 1,
   "metadata": {},
   "outputs": [],
   "source": [
    "import pandas as pd\n",
    "import numpy as np\n",
    "\n",
    "from sklearn import metrics\n",
    "from sklearn.model_selection import train_test_split\n",
    "from sklearn import tree\n",
    "from sklearn.ensemble import RandomForestClassifier\n",
    "\n",
    "import cv2\n",
    "\n",
    "from matplotlib import pyplot as plt"
   ]
  },
  {
   "cell_type": "code",
   "execution_count": 2,
   "metadata": {},
   "outputs": [],
   "source": [
    "def load(train_fn: str,\n",
    "         test_fn: str):\n",
    "    train_df = pd.read_csv(train_fn)\n",
    "    test_df = pd.read_csv(test_fn)\n",
    "\n",
    "    X_train = np.array([[int(x) for x in s.split(',')] for s in train_df['Image']])\n",
    "    y_train = np.array([int(s) for s in train_df['Category']])\n",
    "\n",
    "    X_test = np.array([[int(x) for x in s.split(',')] for s in test_df['Image']])\n",
    "\n",
    "    return (X_train, y_train), X_test\n",
    "\n",
    "def binarize_image(pixels):\n",
    "    pixels = pixels.reshape(28, 28)\n",
    "    blur = cv2.GaussianBlur(pixels.astype(np.float32), (3,3), 0)\n",
    "    binary = cv2.threshold(blur.astype(np.uint8), 0, 255, cv2.THRESH_BINARY + cv2.THRESH_OTSU)[1]\n",
    "    kernel = np.ones(shape=(2,2), dtype=np.uint8)\n",
    "    pixels = cv2.morphologyEx(binary.astype(np.float32), cv2.MORPH_OPEN, kernel, iterations=1)\n",
    "    return pixels.reshape(28*28)\n",
    "\n",
    "def show_random_images(h=5, w=5):\n",
    "    idxs = np.random.randint(0, X_train.shape[0] - 1, size=w * h).tolist()\n",
    "    plt.figure(figsize=(w, h))\n",
    "    \n",
    "    for i in range(h * w):\n",
    "        plt.subplot(h, w, i+1)\n",
    "        image = X_train[idxs[i]].reshape(28,28)\n",
    "        plt.imshow(image, cmap='gray')\n",
    "        plt.title(y_train[idxs[i]])\n",
    "        plt.xticks([])\n",
    "        plt.yticks([])\n",
    "    plt.tight_layout()"
   ]
  },
  {
   "cell_type": "code",
   "execution_count": 9,
   "metadata": {},
   "outputs": [
    {
     "name": "stdout",
     "output_type": "stream",
     "text": [
      "(60000, 784) (60000,)\n"
     ]
    }
   ],
   "source": [
    "(X_train, y_train), X_test = load(\n",
    "        train_fn='train.csv',\n",
    "        test_fn='test.csv')\n",
    "print(X_train.shape, y_train.shape)"
   ]
  },
  {
   "cell_type": "code",
   "execution_count": 10,
   "metadata": {},
   "outputs": [],
   "source": [
    "X_train = np.apply_along_axis(binarize_image, axis=1, arr=X_train)\n",
    "X_test = np.apply_along_axis(binarize_image, axis=1, arr=X_test)"
   ]
  },
  {
   "cell_type": "code",
   "execution_count": 11,
   "metadata": {
    "scrolled": false
   },
   "outputs": [
    {
     "data": {
      "image/png": "[encoded data removed]",
      "text/plain": [
       "<Figure size 360x360 with 25 Axes>"
      ]
     },
     "metadata": {},
     "output_type": "display_data"
    }
   ],
   "source": [
    "show_random_images()"
   ]
  },
  {
   "cell_type": "code",
   "execution_count": 12,
   "metadata": {},
   "outputs": [
    {
     "name": "stdout",
     "output_type": "stream",
     "text": [
      "(48000, 784) (48000,)\n",
      "(12000, 784) (12000,)\n"
     ]
    }
   ],
   "source": [
    "X_train, X_val, y_train, y_val = train_test_split(X_train, y_train, test_size=0.2)\n",
    "print(X_train.shape, y_train.shape)\n",
    "print(X_val.shape, y_val.shape)"
   ]
  },
  {
   "cell_type": "code",
   "execution_count": 16,
   "metadata": {},
   "outputs": [],
   "source": [
    "from sklearn.metrics import accuracy_score\n",
    "from keras.utils import to_categorical\n",
    "from keras.models import Sequential\n",
    "from keras.layers import Dense, Conv2D"
   ]
  },
  {
   "cell_type": "code",
   "execution_count": 15,
   "metadata": {
    "scrolled": true
   },
   "outputs": [
    {
     "name": "stdout",
     "output_type": "stream",
     "text": [
      "Train on 48000 samples, validate on 12000 samples\n",
      "Epoch 1/500\n",
      "48000/48000 [==============================] - 3s 54us/step - loss: 2.4059 - acc: 0.1119 - val_loss: 2.3035 - val_acc: 0.1118\n",
      "Epoch 2/500\n",
      "48000/48000 [==============================] - 2s 49us/step - loss: 2.3006 - acc: 0.1135 - val_loss: 2.3041 - val_acc: 0.1121\n",
      "Epoch 3/500\n",
      "48000/48000 [==============================] - 2s 49us/step - loss: 2.2435 - acc: 0.1457 - val_loss: 2.1870 - val_acc: 0.1643\n",
      "Epoch 4/500\n",
      "48000/48000 [==============================] - 2s 50us/step - loss: 2.1668 - acc: 0.1805 - val_loss: 2.1427 - val_acc: 0.1980\n",
      "Epoch 5/500\n",
      "48000/48000 [==============================] - 2s 50us/step - loss: 2.1222 - acc: 0.1849 - val_loss: 2.1087 - val_acc: 0.1854\n",
      "Epoch 6/500\n",
      "48000/48000 [==============================] - 2s 50us/step - loss: 2.1265 - acc: 0.1814 - val_loss: 2.1473 - val_acc: 0.1784\n",
      "Epoch 7/500\n",
      "48000/48000 [==============================] - 2s 51us/step - loss: 2.1145 - acc: 0.1824 - val_loss: 2.1553 - val_acc: 0.1746\n",
      "Epoch 8/500\n",
      "48000/48000 [==============================] - 2s 51us/step - loss: 2.1016 - acc: 0.1900 - val_loss: 2.1200 - val_acc: 0.2062\n",
      "Epoch 9/500\n",
      "48000/48000 [==============================] - 2s 51us/step - loss: 2.0883 - acc: 0.1922 - val_loss: 2.0657 - val_acc: 0.2010\n",
      "Epoch 10/500\n",
      "48000/48000 [==============================] - 2s 52us/step - loss: 2.0798 - acc: 0.1951 - val_loss: 2.0805 - val_acc: 0.1934\n",
      "Epoch 11/500\n",
      "48000/48000 [==============================] - 2s 51us/step - loss: 2.0785 - acc: 0.1921 - val_loss: 2.0422 - val_acc: 0.2044\n",
      "Epoch 12/500\n",
      "48000/48000 [==============================] - 2s 51us/step - loss: 2.0692 - acc: 0.1986 - val_loss: 2.0506 - val_acc: 0.2030\n",
      "Epoch 13/500\n",
      "48000/48000 [==============================] - 3s 56us/step - loss: 2.0530 - acc: 0.1981 - val_loss: 2.0342 - val_acc: 0.2137\n",
      "Epoch 14/500\n",
      "48000/48000 [==============================] - 3s 55us/step - loss: 2.0295 - acc: 0.2119 - val_loss: 2.0289 - val_acc: 0.2048\n",
      "Epoch 15/500\n",
      "48000/48000 [==============================] - 2s 52us/step - loss: 1.9972 - acc: 0.2280 - val_loss: 2.0195 - val_acc: 0.2147\n",
      "Epoch 16/500\n",
      "48000/48000 [==============================] - 2s 51us/step - loss: 1.9770 - acc: 0.2359 - val_loss: 1.9418 - val_acc: 0.2650\n",
      "Epoch 17/500\n",
      "48000/48000 [==============================] - 2s 52us/step - loss: 1.9562 - acc: 0.2420 - val_loss: 1.9413 - val_acc: 0.2413\n",
      "Epoch 18/500\n",
      "48000/48000 [==============================] - 3s 54us/step - loss: 1.9390 - acc: 0.2499 - val_loss: 1.9093 - val_acc: 0.2743\n",
      "Epoch 19/500\n",
      "48000/48000 [==============================] - 3s 55us/step - loss: 1.9135 - acc: 0.2534 - val_loss: 1.8895 - val_acc: 0.2849\n",
      "Epoch 20/500\n",
      "48000/48000 [==============================] - 3s 58us/step - loss: 1.8708 - acc: 0.2603 - val_loss: 1.8515 - val_acc: 0.2893\n",
      "Epoch 21/500\n",
      "48000/48000 [==============================] - 3s 53us/step - loss: 1.8554 - acc: 0.2627 - val_loss: 1.8608 - val_acc: 0.2578\n",
      "Epoch 22/500\n",
      "48000/48000 [==============================] - 3s 56us/step - loss: 1.8429 - acc: 0.2650 - val_loss: 1.8391 - val_acc: 0.2948\n",
      "Epoch 23/500\n",
      "48000/48000 [==============================] - 3s 53us/step - loss: 1.8293 - acc: 0.2643 - val_loss: 1.8202 - val_acc: 0.2815\n",
      "Epoch 24/500\n",
      "48000/48000 [==============================] - 3s 57us/step - loss: 1.8208 - acc: 0.2636 - val_loss: 1.8312 - val_acc: 0.2629\n",
      "Epoch 25/500\n",
      "48000/48000 [==============================] - 3s 56us/step - loss: 1.8141 - acc: 0.2602 - val_loss: 1.8265 - val_acc: 0.2241\n",
      "Epoch 26/500\n",
      "48000/48000 [==============================] - 3s 53us/step - loss: 1.8033 - acc: 0.2592 - val_loss: 1.8091 - val_acc: 0.2502\n",
      "Epoch 27/500\n",
      "48000/48000 [==============================] - 3s 54us/step - loss: 1.7977 - acc: 0.2554 - val_loss: 1.8285 - val_acc: 0.2644\n",
      "Epoch 28/500\n",
      "48000/48000 [==============================] - 3s 55us/step - loss: 1.7916 - acc: 0.2528 - val_loss: 1.8083 - val_acc: 0.2199\n",
      "Epoch 29/500\n",
      "48000/48000 [==============================] - 3s 55us/step - loss: 1.7895 - acc: 0.2560 - val_loss: 1.7844 - val_acc: 0.2338\n",
      "Epoch 30/500\n",
      "48000/48000 [==============================] - 3s 54us/step - loss: 1.7852 - acc: 0.2628 - val_loss: 1.7955 - val_acc: 0.2481\n",
      "Epoch 31/500\n",
      "48000/48000 [==============================] - 3s 55us/step - loss: 1.7818 - acc: 0.2684 - val_loss: 1.7740 - val_acc: 0.2690\n",
      "Epoch 32/500\n",
      "48000/48000 [==============================] - 3s 55us/step - loss: 1.7782 - acc: 0.2748 - val_loss: 1.7843 - val_acc: 0.3029\n",
      "Epoch 33/500\n",
      "48000/48000 [==============================] - 3s 56us/step - loss: 1.7747 - acc: 0.2822 - val_loss: 1.8235 - val_acc: 0.2964\n",
      "Epoch 34/500\n",
      "48000/48000 [==============================] - 3s 61us/step - loss: 1.7732 - acc: 0.2818 - val_loss: 1.7864 - val_acc: 0.3052\n",
      "Epoch 35/500\n",
      "48000/48000 [==============================] - 3s 55us/step - loss: 1.7745 - acc: 0.2835 - val_loss: 1.7852 - val_acc: 0.2560\n",
      "Epoch 36/500\n",
      "48000/48000 [==============================] - 3s 54us/step - loss: 1.7691 - acc: 0.2794 - val_loss: 1.7905 - val_acc: 0.2833\n",
      "Epoch 37/500\n",
      "48000/48000 [==============================] - 3s 54us/step - loss: 1.7681 - acc: 0.2816 - val_loss: 1.7672 - val_acc: 0.3003\n",
      "Epoch 38/500\n",
      "48000/48000 [==============================] - 3s 55us/step - loss: 1.7684 - acc: 0.2805 - val_loss: 1.7867 - val_acc: 0.2946\n",
      "Epoch 39/500\n",
      "48000/48000 [==============================] - 3s 56us/step - loss: 1.7668 - acc: 0.2788 - val_loss: 1.7662 - val_acc: 0.2661\n",
      "Epoch 40/500\n",
      "48000/48000 [==============================] - 3s 56us/step - loss: 1.7643 - acc: 0.2804 - val_loss: 1.7712 - val_acc: 0.2529\n",
      "Epoch 41/500\n",
      "48000/48000 [==============================] - 3s 54us/step - loss: 1.7637 - acc: 0.2801 - val_loss: 1.7863 - val_acc: 0.2752\n",
      "Epoch 42/500\n",
      "48000/48000 [==============================] - 3s 55us/step - loss: 1.7603 - acc: 0.2778 - val_loss: 1.7758 - val_acc: 0.2560\n",
      "Epoch 43/500\n",
      "48000/48000 [==============================] - 3s 55us/step - loss: 1.7602 - acc: 0.2805 - val_loss: 1.7747 - val_acc: 0.2940\n",
      "Epoch 44/500\n",
      "48000/48000 [==============================] - 3s 58us/step - loss: 1.7605 - acc: 0.2771 - val_loss: 1.7805 - val_acc: 0.3113\n",
      "Epoch 45/500\n",
      "48000/48000 [==============================] - 3s 54us/step - loss: 1.7569 - acc: 0.2792 - val_loss: 1.7656 - val_acc: 0.2859\n",
      "Epoch 46/500\n",
      "48000/48000 [==============================] - 3s 56us/step - loss: 1.7538 - acc: 0.2830 - val_loss: 1.7499 - val_acc: 0.2988\n",
      "Epoch 47/500\n",
      "48000/48000 [==============================] - 3s 56us/step - loss: 1.7540 - acc: 0.2825 - val_loss: 1.7637 - val_acc: 0.2911\n",
      "Epoch 48/500\n",
      "48000/48000 [==============================] - 3s 54us/step - loss: 1.7487 - acc: 0.2857 - val_loss: 1.7600 - val_acc: 0.2540\n",
      "Epoch 49/500\n",
      "48000/48000 [==============================] - 3s 56us/step - loss: 1.7434 - acc: 0.2899 - val_loss: 1.7407 - val_acc: 0.3196\n",
      "Epoch 50/500\n",
      "48000/48000 [==============================] - 3s 56us/step - loss: 1.7375 - acc: 0.2889 - val_loss: 1.7317 - val_acc: 0.2767\n",
      "Epoch 51/500\n",
      "31360/48000 [==================>...........] - ETA: 0s - loss: 1.7322 - acc: 0.2922"
     ]
    },
    {
     "ename": "KeyboardInterrupt",
     "evalue": "",
     "output_type": "error",
     "traceback": [
      "\u001b[0;31m---------------------------------------\u001b[0m",
      "\u001b[0;31mKeyboardInterrupt\u001b[0mTraceback (most recent call last)",
      "\u001b[0;32m<ipython-input-15-a0eff1eceb9f>\u001b[0m in \u001b[0;36m<module>\u001b[0;34m\u001b[0m\n\u001b[1;32m      8\u001b[0m \u001b[0mmodel\u001b[0m\u001b[0;34m.\u001b[0m\u001b[0madd\u001b[0m\u001b[0;34m(\u001b[0m\u001b[0mDense\u001b[0m\u001b[0;34m(\u001b[0m\u001b[0;36m10\u001b[0m\u001b[0;34m,\u001b[0m \u001b[0mactivation\u001b[0m\u001b[0;34m=\u001b[0m\u001b[0;34m'softmax'\u001b[0m\u001b[0;34m)\u001b[0m\u001b[0;34m)\u001b[0m\u001b[0;34m\u001b[0m\u001b[0m\n\u001b[1;32m      9\u001b[0m \u001b[0mmodel\u001b[0m\u001b[0;34m.\u001b[0m\u001b[0mcompile\u001b[0m\u001b[0;34m(\u001b[0m\u001b[0mloss\u001b[0m\u001b[0;34m=\u001b[0m\u001b[0;34m'categorical_crossentropy'\u001b[0m\u001b[0;34m,\u001b[0m \u001b[0moptimizer\u001b[0m\u001b[0;34m=\u001b[0m\u001b[0;34m'adam'\u001b[0m\u001b[0;34m,\u001b[0m \u001b[0mmetrics\u001b[0m\u001b[0;34m=\u001b[0m\u001b[0;34m[\u001b[0m\u001b[0;34m'accuracy'\u001b[0m\u001b[0;34m]\u001b[0m\u001b[0;34m)\u001b[0m\u001b[0;34m\u001b[0m\u001b[0m\n\u001b[0;32m---> 10\u001b[0;31m \u001b[0mmodel\u001b[0m\u001b[0;34m.\u001b[0m\u001b[0mfit\u001b[0m\u001b[0;34m(\u001b[0m\u001b[0mX_train\u001b[0m\u001b[0;34m,\u001b[0m \u001b[0my_train_enc\u001b[0m\u001b[0;34m,\u001b[0m \u001b[0mepochs\u001b[0m\u001b[0;34m=\u001b[0m\u001b[0;36m500\u001b[0m\u001b[0;34m,\u001b[0m \u001b[0mverbose\u001b[0m\u001b[0;34m=\u001b[0m\u001b[0;36m1\u001b[0m\u001b[0;34m,\u001b[0m \u001b[0mvalidation_data\u001b[0m\u001b[0;34m=\u001b[0m\u001b[0;34m(\u001b[0m\u001b[0mX_val\u001b[0m\u001b[0;34m,\u001b[0m \u001b[0my_val_enc\u001b[0m\u001b[0;34m)\u001b[0m\u001b[0;34m)\u001b[0m\u001b[0;34m\u001b[0m\u001b[0m\n\u001b[0m",
      "\u001b[0;32m~/.local/lib/python3.6/site-packages/keras/engine/training.py\u001b[0m in \u001b[0;36mfit\u001b[0;34m(self, x, y, batch_size, epochs, verbose, callbacks, validation_split, validation_data, shuffle, class_weight, sample_weight, initial_epoch, steps_per_epoch, validation_steps, **kwargs)\u001b[0m\n\u001b[1;32m   1037\u001b[0m                                         \u001b[0minitial_epoch\u001b[0m\u001b[0;34m=\u001b[0m\u001b[0minitial_epoch\u001b[0m\u001b[0;34m,\u001b[0m\u001b[0;34m\u001b[0m\u001b[0m\n\u001b[1;32m   1038\u001b[0m                                         \u001b[0msteps_per_epoch\u001b[0m\u001b[0;34m=\u001b[0m\u001b[0msteps_per_epoch\u001b[0m\u001b[0;34m,\u001b[0m\u001b[0;34m\u001b[0m\u001b[0m\n\u001b[0;32m-> 1039\u001b[0;31m                                         validation_steps=validation_steps)\n\u001b[0m\u001b[1;32m   1040\u001b[0m \u001b[0;34m\u001b[0m\u001b[0m\n\u001b[1;32m   1041\u001b[0m     def evaluate(self, x=None, y=None,\n",
      "\u001b[0;32m~/.local/lib/python3.6/site-packages/keras/engine/training_arrays.py\u001b[0m in \u001b[0;36mfit_loop\u001b[0;34m(model, f, ins, out_labels, batch_size, epochs, verbose, callbacks, val_f, val_ins, shuffle, callback_metrics, initial_epoch, steps_per_epoch, validation_steps)\u001b[0m\n\u001b[1;32m    197\u001b[0m                     \u001b[0mins_batch\u001b[0m\u001b[0;34m[\u001b[0m\u001b[0mi\u001b[0m\u001b[0;34m]\u001b[0m \u001b[0;34m=\u001b[0m \u001b[0mins_batch\u001b[0m\u001b[0;34m[\u001b[0m\u001b[0mi\u001b[0m\u001b[0;34m]\u001b[0m\u001b[0;34m.\u001b[0m\u001b[0mtoarray\u001b[0m\u001b[0;34m(\u001b[0m\u001b[0;34m)\u001b[0m\u001b[0;34m\u001b[0m\u001b[0m\n\u001b[1;32m    198\u001b[0m \u001b[0;34m\u001b[0m\u001b[0m\n\u001b[0;32m--> 199\u001b[0;31m                 \u001b[0mouts\u001b[0m \u001b[0;34m=\u001b[0m \u001b[0mf\u001b[0m\u001b[0;34m(\u001b[0m\u001b[0mins_batch\u001b[0m\u001b[0;34m)\u001b[0m\u001b[0;34m\u001b[0m\u001b[0m\n\u001b[0m\u001b[1;32m    200\u001b[0m                 \u001b[0mouts\u001b[0m \u001b[0;34m=\u001b[0m \u001b[0mto_list\u001b[0m\u001b[0;34m(\u001b[0m\u001b[0mouts\u001b[0m\u001b[0;34m)\u001b[0m\u001b[0;34m\u001b[0m\u001b[0m\n\u001b[1;32m    201\u001b[0m                 \u001b[0;32mfor\u001b[0m \u001b[0ml\u001b[0m\u001b[0;34m,\u001b[0m \u001b[0mo\u001b[0m \u001b[0;32min\u001b[0m \u001b[0mzip\u001b[0m\u001b[0;34m(\u001b[0m\u001b[0mout_labels\u001b[0m\u001b[0;34m,\u001b[0m \u001b[0mouts\u001b[0m\u001b[0;34m)\u001b[0m\u001b[0;34m:\u001b[0m\u001b[0;34m\u001b[0m\u001b[0m\n",
      "\u001b[0;32m~/.local/lib/python3.6/site-packages/keras/backend/tensorflow_backend.py\u001b[0m in \u001b[0;36m__call__\u001b[0;34m(self, inputs)\u001b[0m\n\u001b[1;32m   2713\u001b[0m                 \u001b[0;32mreturn\u001b[0m \u001b[0mself\u001b[0m\u001b[0;34m.\u001b[0m\u001b[0m_legacy_call\u001b[0m\u001b[0;34m(\u001b[0m\u001b[0minputs\u001b[0m\u001b[0;34m)\u001b[0m\u001b[0;34m\u001b[0m\u001b[0m\n\u001b[1;32m   2714\u001b[0m \u001b[0;34m\u001b[0m\u001b[0m\n\u001b[0;32m-> 2715\u001b[0;31m             \u001b[0;32mreturn\u001b[0m \u001b[0mself\u001b[0m\u001b[0;34m.\u001b[0m\u001b[0m_call\u001b[0m\u001b[0;34m(\u001b[0m\u001b[0minputs\u001b[0m\u001b[0;34m)\u001b[0m\u001b[0;34m\u001b[0m\u001b[0m\n\u001b[0m\u001b[1;32m   2716\u001b[0m         \u001b[0;32melse\u001b[0m\u001b[0;34m:\u001b[0m\u001b[0;34m\u001b[0m\u001b[0m\n\u001b[1;32m   2717\u001b[0m             \u001b[0;32mif\u001b[0m \u001b[0mpy_any\u001b[0m\u001b[0;34m(\u001b[0m\u001b[0mis_tensor\u001b[0m\u001b[0;34m(\u001b[0m\u001b[0mx\u001b[0m\u001b[0;34m)\u001b[0m \u001b[0;32mfor\u001b[0m \u001b[0mx\u001b[0m \u001b[0;32min\u001b[0m \u001b[0minputs\u001b[0m\u001b[0;34m)\u001b[0m\u001b[0;34m:\u001b[0m\u001b[0;34m\u001b[0m\u001b[0m\n",
      "\u001b[0;32m~/.local/lib/python3.6/site-packages/keras/backend/tensorflow_backend.py\u001b[0m in \u001b[0;36m_call\u001b[0;34m(self, inputs)\u001b[0m\n\u001b[1;32m   2673\u001b[0m             \u001b[0mfetched\u001b[0m \u001b[0;34m=\u001b[0m \u001b[0mself\u001b[0m\u001b[0;34m.\u001b[0m\u001b[0m_callable_fn\u001b[0m\u001b[0;34m(\u001b[0m\u001b[0;34m*\u001b[0m\u001b[0marray_vals\u001b[0m\u001b[0;34m,\u001b[0m \u001b[0mrun_metadata\u001b[0m\u001b[0;34m=\u001b[0m\u001b[0mself\u001b[0m\u001b[0;34m.\u001b[0m\u001b[0mrun_metadata\u001b[0m\u001b[0;34m)\u001b[0m\u001b[0;34m\u001b[0m\u001b[0m\n\u001b[1;32m   2674\u001b[0m         \u001b[0;32melse\u001b[0m\u001b[0;34m:\u001b[0m\u001b[0;34m\u001b[0m\u001b[0m\n\u001b[0;32m-> 2675\u001b[0;31m             \u001b[0mfetched\u001b[0m \u001b[0;34m=\u001b[0m \u001b[0mself\u001b[0m\u001b[0;34m.\u001b[0m\u001b[0m_callable_fn\u001b[0m\u001b[0;34m(\u001b[0m\u001b[0;34m*\u001b[0m\u001b[0marray_vals\u001b[0m\u001b[0;34m)\u001b[0m\u001b[0;34m\u001b[0m\u001b[0m\n\u001b[0m\u001b[1;32m   2676\u001b[0m         \u001b[0;32mreturn\u001b[0m \u001b[0mfetched\u001b[0m\u001b[0;34m[\u001b[0m\u001b[0;34m:\u001b[0m\u001b[0mlen\u001b[0m\u001b[0;34m(\u001b[0m\u001b[0mself\u001b[0m\u001b[0;34m.\u001b[0m\u001b[0moutputs\u001b[0m\u001b[0;34m)\u001b[0m\u001b[0;34m]\u001b[0m\u001b[0;34m\u001b[0m\u001b[0m\n\u001b[1;32m   2677\u001b[0m \u001b[0;34m\u001b[0m\u001b[0m\n",
      "\u001b[0;32m~/.local/lib/python3.6/site-packages/tensorflow/python/client/session.py\u001b[0m in \u001b[0;36m__call__\u001b[0;34m(self, *args, **kwargs)\u001b[0m\n\u001b[1;32m   1434\u001b[0m         \u001b[0mrun_metadata_ptr\u001b[0m \u001b[0;34m=\u001b[0m \u001b[0mtf_session\u001b[0m\u001b[0;34m.\u001b[0m\u001b[0mTF_NewBuffer\u001b[0m\u001b[0;34m(\u001b[0m\u001b[0;34m)\u001b[0m \u001b[0;32mif\u001b[0m \u001b[0mrun_metadata\u001b[0m \u001b[0;32melse\u001b[0m \u001b[0;32mNone\u001b[0m\u001b[0;34m\u001b[0m\u001b[0m\n\u001b[1;32m   1435\u001b[0m         \u001b[0;31m# TODO(mrry): Switch to raising an exception from the SWIG wrapper.\u001b[0m\u001b[0;34m\u001b[0m\u001b[0;34m\u001b[0m\u001b[0m\n\u001b[0;32m-> 1436\u001b[0;31m         \u001b[0;32mwith\u001b[0m \u001b[0merrors\u001b[0m\u001b[0;34m.\u001b[0m\u001b[0mraise_exception_on_not_ok_status\u001b[0m\u001b[0;34m(\u001b[0m\u001b[0;34m)\u001b[0m \u001b[0;32mas\u001b[0m \u001b[0mstatus\u001b[0m\u001b[0;34m:\u001b[0m\u001b[0;34m\u001b[0m\u001b[0m\n\u001b[0m\u001b[1;32m   1437\u001b[0m           ret = tf_session.TF_SessionRunCallable(\n\u001b[1;32m   1438\u001b[0m               \u001b[0mself\u001b[0m\u001b[0;34m.\u001b[0m\u001b[0m_session\u001b[0m\u001b[0;34m.\u001b[0m\u001b[0m_session\u001b[0m\u001b[0;34m,\u001b[0m \u001b[0mself\u001b[0m\u001b[0;34m.\u001b[0m\u001b[0m_handle\u001b[0m\u001b[0;34m,\u001b[0m \u001b[0margs\u001b[0m\u001b[0;34m,\u001b[0m \u001b[0mstatus\u001b[0m\u001b[0;34m,\u001b[0m\u001b[0;34m\u001b[0m\u001b[0m\n",
      "\u001b[0;31mKeyboardInterrupt\u001b[0m: "
     ]
    }
   ],
   "source": [
    "model = Sequential()\n",
    "\n",
    "y_train_enc = to_categorical(y_train)\n",
    "y_val_enc = to_categorical(y_val)\n",
    "\n",
    "model = Sequential()\n",
    "model.add(Conv2D())\n",
    "model.add(Dense(5, input_dim=28*28, activation='relu'))\n",
    "model.add(Dense(10, activation='softmax'))\n",
    "model.compile(loss='categorical_crossentropy', optimizer='adam', metrics=['accuracy'])\n",
    "model.fit(X_train, y_train_enc, epochs=500, verbose=1, validation_data=(X_val, y_val_enc))\n"
   ]
  },
  {
   "cell_type": "code",
   "execution_count": null,
   "metadata": {},
   "outputs": [],
   "source": []
  }
 ],
 "metadata": {
  "kernelspec": {
   "display_name": "Python 3",
   "language": "python",
   "name": "python3"
  },
  "language_info": {
   "codemirror_mode": {
    "name": "ipython",
    "version": 3
   },
   "file_extension": ".py",
   "mimetype": "text/x-python",
   "name": "python",
   "nbconvert_exporter": "python",
   "pygments_lexer": "ipython3",
   "version": "3.6.6"
  }
 },
 "nbformat": 4,
 "nbformat_minor": 2
}
